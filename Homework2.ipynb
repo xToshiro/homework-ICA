{
 "cells": [
  {
   "cell_type": "code",
   "execution_count": 1,
   "id": "40aa27da",
   "metadata": {},
   "outputs": [],
   "source": [
    "import pandas as pd\n",
    "from sklearn.model_selection import train_test_split"
   ]
  },
  {
   "cell_type": "code",
   "execution_count": 2,
   "id": "a46e0c31",
   "metadata": {},
   "outputs": [],
   "source": [
    "# Ler a planilha CSV\n",
    "nome_arquivo = 'winequality-white.csv'  # Substitua pelo nome do seu arquivo CSV\n",
    "df = pd.read_csv(nome_arquivo, sep=';')"
   ]
  },
  {
   "cell_type": "code",
   "execution_count": 3,
   "id": "81750cf8",
   "metadata": {},
   "outputs": [
    {
     "name": "stdout",
     "output_type": "stream",
     "text": [
      "Cabeçalho das Colunas:\n",
      "Index(['fixed acidity', 'volatile acidity', 'citric acid', 'residual sugar',\n",
      "       'chlorides', 'free sulfur dioxide', 'total sulfur dioxide', 'density',\n",
      "       'pH', 'sulphates', 'alcohol', 'quality'],\n",
      "      dtype='object')\n"
     ]
    }
   ],
   "source": [
    "# Mostrar o cabeçalho das colunas\n",
    "print(\"Cabeçalho das Colunas:\")\n",
    "print(df.columns)\n"
   ]
  },
  {
   "cell_type": "code",
   "execution_count": 4,
   "id": "21be0c90",
   "metadata": {},
   "outputs": [
    {
     "name": "stdout",
     "output_type": "stream",
     "text": [
      "\n",
      "Resumo Estatístico:\n",
      "       fixed acidity  volatile acidity  citric acid  residual sugar  \\\n",
      "count    4898.000000       4898.000000  4898.000000     4898.000000   \n",
      "mean        6.854788          0.278241     0.334192        6.391415   \n",
      "std         0.843868          0.100795     0.121020        5.072058   \n",
      "min         3.800000          0.080000     0.000000        0.600000   \n",
      "25%         6.300000          0.210000     0.270000        1.700000   \n",
      "50%         6.800000          0.260000     0.320000        5.200000   \n",
      "75%         7.300000          0.320000     0.390000        9.900000   \n",
      "max        14.200000          1.100000     1.660000       65.800000   \n",
      "\n",
      "         chlorides  free sulfur dioxide  total sulfur dioxide      density  \\\n",
      "count  4898.000000          4898.000000           4898.000000  4898.000000   \n",
      "mean      0.045772            35.308085            138.360657     0.994027   \n",
      "std       0.021848            17.007137             42.498065     0.002991   \n",
      "min       0.009000             2.000000              9.000000     0.987110   \n",
      "25%       0.036000            23.000000            108.000000     0.991723   \n",
      "50%       0.043000            34.000000            134.000000     0.993740   \n",
      "75%       0.050000            46.000000            167.000000     0.996100   \n",
      "max       0.346000           289.000000            440.000000     1.038980   \n",
      "\n",
      "                pH    sulphates      alcohol      quality  \n",
      "count  4898.000000  4898.000000  4898.000000  4898.000000  \n",
      "mean      3.188267     0.489847    10.514267     5.877909  \n",
      "std       0.151001     0.114126     1.230621     0.885639  \n",
      "min       2.720000     0.220000     8.000000     3.000000  \n",
      "25%       3.090000     0.410000     9.500000     5.000000  \n",
      "50%       3.180000     0.470000    10.400000     6.000000  \n",
      "75%       3.280000     0.550000    11.400000     6.000000  \n",
      "max       3.820000     1.080000    14.200000     9.000000  \n"
     ]
    }
   ],
   "source": [
    "# Resumo estatístico de todas as colunas\n",
    "print(\"\\nResumo Estatístico:\")\n",
    "print(df.describe())\n"
   ]
  },
  {
   "cell_type": "code",
   "execution_count": 5,
   "id": "7c8aa05e",
   "metadata": {},
   "outputs": [],
   "source": [
    "# Dividir os dados em Treino (75%) e Teste (25%)\n",
    "treino, teste = train_test_split(df, test_size=0.25, random_state=42)\n"
   ]
  },
  {
   "cell_type": "code",
   "execution_count": 6,
   "id": "d2add0dc",
   "metadata": {},
   "outputs": [],
   "source": [
    "# Nome dos arquivos de treino e teste\n",
    "nome_treino = 'treino.csv'\n",
    "nome_teste = 'teste.csv'"
   ]
  },
  {
   "cell_type": "code",
   "execution_count": 7,
   "id": "1fdef22c",
   "metadata": {},
   "outputs": [],
   "source": [
    "# Salvar os DataFrames de treino e teste como arquivos CSV na pasta atual\n",
    "treino.to_csv(nome_treino, index=False, sep=';')\n",
    "teste.to_csv(nome_teste, index=False, sep=';')"
   ]
  },
  {
   "cell_type": "code",
   "execution_count": 9,
   "id": "485e56de",
   "metadata": {},
   "outputs": [],
   "source": [
    "# Ler as planilhas de treino e teste\n",
    "df_treino = pd.read_csv(nome_treino, sep=';')\n",
    "df_teste = pd.read_csv(nome_teste, sep=';')"
   ]
  },
  {
   "cell_type": "code",
   "execution_count": 10,
   "id": "ab05b859",
   "metadata": {},
   "outputs": [
    {
     "name": "stdout",
     "output_type": "stream",
     "text": [
      "Resumo Estatístico para Treino:\n",
      "       fixed acidity  volatile acidity  citric acid  residual sugar  \\\n",
      "count    3673.000000       3673.000000  3673.000000     3673.000000   \n",
      "mean        6.865369          0.279178     0.333207        6.437912   \n",
      "std         0.846850          0.101555     0.120126        5.139959   \n",
      "min         3.800000          0.080000     0.000000        0.600000   \n",
      "25%         6.300000          0.210000     0.270000        1.700000   \n",
      "50%         6.800000          0.260000     0.320000        5.200000   \n",
      "75%         7.300000          0.320000     0.380000        9.900000   \n",
      "max        11.800000          1.100000     1.660000       65.800000   \n",
      "\n",
      "         chlorides  free sulfur dioxide  total sulfur dioxide      density  \\\n",
      "count  3673.000000          3673.000000           3673.000000  3673.000000   \n",
      "mean      0.045594            35.182957            138.304111     0.994066   \n",
      "std       0.021181            16.812714             42.026785     0.003027   \n",
      "min       0.009000             3.000000             10.000000     0.987110   \n",
      "25%       0.036000            23.000000            109.000000     0.991760   \n",
      "50%       0.043000            34.000000            135.000000     0.993800   \n",
      "75%       0.050000            46.000000            167.000000     0.996120   \n",
      "max       0.346000           146.500000            313.000000     1.038980   \n",
      "\n",
      "                pH    sulphates      alcohol      quality  \n",
      "count  3673.000000  3673.000000  3673.000000  3673.000000  \n",
      "mean      3.189363     0.489543    10.510266     5.868772  \n",
      "std       0.149583     0.113574     1.230404     0.886959  \n",
      "min       2.720000     0.220000     8.000000     3.000000  \n",
      "25%       3.090000     0.410000     9.500000     5.000000  \n",
      "50%       3.180000     0.470000    10.400000     6.000000  \n",
      "75%       3.280000     0.550000    11.400000     6.000000  \n",
      "max       3.820000     1.060000    14.200000     9.000000  \n"
     ]
    }
   ],
   "source": [
    "# Resumo estatístico das colunas para a planilha de treino\n",
    "print(\"Resumo Estatístico para Treino:\")\n",
    "print(df_treino.describe())\n"
   ]
  },
  {
   "cell_type": "code",
   "execution_count": 11,
   "id": "c6b049a2",
   "metadata": {},
   "outputs": [
    {
     "name": "stdout",
     "output_type": "stream",
     "text": [
      "\n",
      "Resumo Estatístico para Teste:\n",
      "       fixed acidity  volatile acidity  citric acid  residual sugar  \\\n",
      "count    1225.000000       1225.000000  1225.000000     1225.000000   \n",
      "mean        6.823061          0.275433     0.337143        6.252000   \n",
      "std         0.834402          0.098467     0.123665        4.862163   \n",
      "min         3.900000          0.080000     0.000000        0.600000   \n",
      "25%         6.300000          0.210000     0.270000        1.700000   \n",
      "50%         6.800000          0.260000     0.320000        5.100000   \n",
      "75%         7.300000          0.320000     0.390000        9.800000   \n",
      "max        14.200000          0.760000     0.990000       26.050000   \n",
      "\n",
      "         chlorides  free sulfur dioxide  total sulfur dioxide      density  \\\n",
      "count  1225.000000          1225.000000           1225.000000  1225.000000   \n",
      "mean      0.046307            35.683265            138.530204     0.993912   \n",
      "std       0.023736            17.578886             43.897919     0.002879   \n",
      "min       0.014000             2.000000              9.000000     0.987220   \n",
      "25%       0.036000            24.000000            107.000000     0.991660   \n",
      "50%       0.042000            34.000000            132.000000     0.993700   \n",
      "75%       0.050000            46.000000            168.000000     0.996040   \n",
      "max       0.271000           289.000000            440.000000     1.002950   \n",
      "\n",
      "               pH    sulphates      alcohol      quality  \n",
      "count  1225.00000  1225.000000  1225.000000  1225.000000  \n",
      "mean      3.18498     0.490759    10.526264     5.905306  \n",
      "std       0.15519     0.115806     1.231694     0.881461  \n",
      "min       2.80000     0.250000     8.000000     3.000000  \n",
      "25%       3.08000     0.410000     9.500000     5.000000  \n",
      "50%       3.17000     0.480000    10.400000     6.000000  \n",
      "75%       3.27000     0.550000    11.400000     6.000000  \n",
      "max       3.81000     1.080000    14.000000     8.000000  \n"
     ]
    }
   ],
   "source": [
    "# Resumo estatístico das colunas para a planilha de teste\n",
    "print(\"\\nResumo Estatístico para Teste:\")\n",
    "print(df_teste.describe())"
   ]
  },
  {
   "cell_type": "code",
   "execution_count": null,
   "id": "777ab8e3",
   "metadata": {},
   "outputs": [],
   "source": []
  }
 ],
 "metadata": {
  "kernelspec": {
   "display_name": "Python 3 (ipykernel)",
   "language": "python",
   "name": "python3"
  },
  "language_info": {
   "codemirror_mode": {
    "name": "ipython",
    "version": 3
   },
   "file_extension": ".py",
   "mimetype": "text/x-python",
   "name": "python",
   "nbconvert_exporter": "python",
   "pygments_lexer": "ipython3",
   "version": "3.11.4"
  }
 },
 "nbformat": 4,
 "nbformat_minor": 5
}
