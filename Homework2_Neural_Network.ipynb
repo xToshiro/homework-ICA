{
 "cells": [
  {
   "cell_type": "code",
   "execution_count": 1,
   "id": "55fda8d6",
   "metadata": {},
   "outputs": [],
   "source": [
    "import pandas as pd\n",
    "import matplotlib.pyplot as plt\n",
    "from sklearn.preprocessing import StandardScaler\n",
    "import sklearn.linear_model as skl\n",
    "import numpy as np\n",
    "import sklearn.model_selection as skm\n",
    "from sklearn.metrics import mean_squared_error, r2_score\n",
    "from matplotlib.pyplot import subplots\n",
    "from sklearn.pipeline import Pipeline\n",
    "import torch\n",
    "from torch import nn\n",
    "from torch.optim import RMSprop\n",
    "from torch.utils.data import TensorDataset\n",
    "from torchmetrics import (MeanAbsoluteError , R2Score, MeanSquaredError)\n",
    "from torchinfo import summary\n",
    "from torchvision.io import read_image\n",
    "from pytorch_lightning import Trainer\n",
    "from pytorch_lightning.loggers import CSVLogger\n",
    "torch.manual_seed(0)\n",
    "from ISLP.torch import (SimpleDataModule , SimpleModule , ErrorTracker , rec_num_workers)"
   ]
  },
  {
   "cell_type": "code",
   "execution_count": 2,
   "id": "37f5f7bb",
   "metadata": {},
   "outputs": [],
   "source": [
    "# Ler a planilha CSV\n",
    "nome_arquivo = 'winequality-white.csv'  # Substitua pelo nome do seu arquivo CSV\n",
    "original = pd.read_csv(nome_arquivo, sep=';')\n",
    "# Nome dos arquivos de treino e teste\n",
    "nome_treino = 'treino.csv'\n",
    "nome_teste = 'teste.csv'\n",
    "# Ler as planilhas de treino e teste\n",
    "treino = pd.read_csv(nome_treino, sep=';')\n",
    "teste = pd.read_csv(nome_teste, sep=';')"
   ]
  },
  {
   "cell_type": "code",
   "execution_count": 3,
   "id": "e5940003",
   "metadata": {},
   "outputs": [],
   "source": [
    "# PRÉ-PROCESSAMENTO\n",
    "\n",
    "# Função para padronizar os dados\n",
    "def standardize(X):\n",
    "    X_np = X.to_numpy()  # Convertendo a série para um array numpy\n",
    "    Xs = X_np - X_np.mean(0)[None, :]\n",
    "    X_scale = X_np.std(0)\n",
    "    Xs = Xs / X_scale[None, :]\n",
    "    return Xs\n",
    "\n",
    "# TREINAMENTO\n",
    "X_train = treino.drop(columns=['alcohol', 'quality'])\n",
    "Xs_train = standardize(X_train)\n",
    "Y_train = treino['alcohol']\n",
    "\n",
    "# TESTE\n",
    "X_test = teste.drop(columns=['alcohol', 'quality'])\n",
    "Xs_test = standardize(X_test)\n",
    "Y_test = teste['alcohol']"
   ]
  },
  {
   "cell_type": "code",
   "execution_count": 4,
   "id": "c474f34f",
   "metadata": {},
   "outputs": [],
   "source": [
    "# Transformando os dados em tensores\n",
    "\n",
    "X_train_t = torch.tensor(Xs_train.astype(np.float32))\n",
    "Y_train_t = torch.tensor(Y_train.values.astype(np.float32))\n",
    "train = TensorDataset(X_train_t , Y_train_t)\n",
    "\n",
    "X_test_t = torch.tensor(Xs_test.astype(np.float32))\n",
    "Y_test_t = torch.tensor(Y_test.values.astype(np.float32))\n",
    "test = TensorDataset(X_test_t , Y_test_t)"
   ]
  },
  {
   "cell_type": "code",
   "execution_count": 5,
   "id": "8b8fb66f",
   "metadata": {},
   "outputs": [],
   "source": [
    "# Criando um SimpleDataModule\n",
    "\n",
    "max_num_workers = rec_num_workers()\n",
    "dm = SimpleDataModule(train ,\n",
    "                           test ,\n",
    "                           batch_size=32, # Tamanho dos lotes\n",
    "                           num_workers=min(4, max_num_workers),\n",
    "                           validation=0.1) # Conjunto de validação será 10% do tamanho do conjunto de treiro"
   ]
  },
  {
   "cell_type": "markdown",
   "id": "a027cbb3",
   "metadata": {},
   "source": [
    "REDE NEURAL"
   ]
  },
  {
   "cell_type": "code",
   "execution_count": 6,
   "id": "95f9bc05",
   "metadata": {},
   "outputs": [],
   "source": [
    "\n",
    "class Network(nn.Module):\n",
    "    def __init__(self, input_size, hidden_layers):\n",
    "        super(Network, self).__init__()\n",
    "        self.flatten = nn.Flatten()\n",
    "        \n",
    "        # Crie uma lista para armazenar as camadas da rede\n",
    "        layers = []\n",
    "        in_features = input_size\n",
    "        \n",
    "        for out_features in hidden_layers:\n",
    "            # Adicione uma camada linear seguida de uma função de ativação Sigmoid\n",
    "            layers.append(nn.Linear(in_features, out_features))\n",
    "            layers.append(nn.Sigmoid())\n",
    "            in_features = out_features  # Atualize o número de neurônios de entrada para a próxima camada\n",
    "        \n",
    "        # Adicione a camada de saída\n",
    "        layers.append(nn.Linear(in_features, 1))\n",
    "        \n",
    "        # Crie a sequência de camadas\n",
    "        self.sequential = nn.Sequential(*layers)\n",
    "    \n",
    "    def forward(self, x):\n",
    "        x = self.flatten(x)\n",
    "        return torch.flatten(self.sequential(x))\n"
   ]
  },
  {
   "cell_type": "code",
   "execution_count": 7,
   "id": "b40eb577",
   "metadata": {},
   "outputs": [],
   "source": [
    "# Função para salvar o RMSE durante o treinamento\n",
    "def summary_plot(results, ax, col='loss', valid_legend='Validation', training_legend='Training', ylabel='Loss', fontsize=20):\n",
    "    for (column, color, label) in zip([f'train_{col}_epoch', f'valid_{col}'], ['black', 'red'], [training_legend, valid_legend]):\n",
    "        ax.plot(results['epoch'], results[column], label=label, marker='o', color=color)\n",
    "    ax.set_xlabel('Epoch')\n",
    "    ax.set_ylabel(ylabel)\n",
    "    ax.legend()\n",
    "    return ax"
   ]
  },
  {
   "cell_type": "code",
   "execution_count": 8,
   "id": "83149659",
   "metadata": {},
   "outputs": [
    {
     "name": "stderr",
     "output_type": "stream",
     "text": [
      "GPU available: False, used: False\n",
      "TPU available: False, using: 0 TPU cores\n",
      "IPU available: False, using: 0 IPUs\n",
      "HPU available: False, using: 0 HPUs\n",
      "\n",
      "  | Name  | Type    | Params\n",
      "----------------------------------\n",
      "0 | model | Network | 11    \n",
      "1 | loss  | MSELoss | 0     \n",
      "----------------------------------\n",
      "11        Trainable params\n",
      "0         Non-trainable params\n",
      "11        Total params\n",
      "0.000     Total estimated model params size (MB)\n"
     ]
    },
    {
     "name": "stdout",
     "output_type": "stream",
     "text": [
      "Epoch 99: 100%|██████████| 104/104 [00:00<00:00, 116.62it/s, v_num=7]      "
     ]
    },
    {
     "name": "stderr",
     "output_type": "stream",
     "text": [
      "`Trainer.fit` stopped: `max_epochs=100` reached.\n"
     ]
    },
    {
     "name": "stdout",
     "output_type": "stream",
     "text": [
      "Epoch 99: 100%|██████████| 104/104 [00:00<00:00, 115.97it/s, v_num=7]\n",
      "Testing DataLoader 0: 100%|██████████| 39/39 [00:00<00:00, 226.63it/s]\n",
      "────────────────────────────────────────────────────────────────────────────────────────────────────────────────────────\n",
      "       Test metric             DataLoader 0\n",
      "────────────────────────────────────────────────────────────────────────────────────────────────────────────────────────\n",
      "        test_loss           0.14401865005493164\n",
      "        test_rmse           0.3794978857040405\n",
      "────────────────────────────────────────────────────────────────────────────────────────────────────────────────────────\n"
     ]
    },
    {
     "name": "stderr",
     "output_type": "stream",
     "text": [
      "C:\\Users\\Artemisa\\AppData\\Local\\Temp\\ipykernel_14376\\782491446.py:61: FutureWarning: The frame.append method is deprecated and will be removed from pandas in a future version. Use pandas.concat instead.\n",
      "  data = data.append({'Quantidade de Layers': n, 'Número de Neurônios': n_neuronio, 'MSE': mse, 'RMSE': rmse, 'R2': r2}, ignore_index=True)\n",
      "GPU available: False, used: False\n",
      "TPU available: False, using: 0 TPU cores\n",
      "IPU available: False, using: 0 IPUs\n",
      "HPU available: False, using: 0 HPUs\n",
      "\n",
      "  | Name  | Type    | Params\n",
      "----------------------------------\n",
      "0 | model | Network | 121   \n",
      "1 | loss  | MSELoss | 0     \n",
      "----------------------------------\n",
      "121       Trainable params\n",
      "0         Non-trainable params\n",
      "121       Total params\n",
      "0.000     Total estimated model params size (MB)\n"
     ]
    },
    {
     "name": "stdout",
     "output_type": "stream",
     "text": [
      "Epoch 99: 100%|██████████| 104/104 [00:01<00:00, 93.81it/s, v_num=8]        "
     ]
    },
    {
     "name": "stderr",
     "output_type": "stream",
     "text": [
      "`Trainer.fit` stopped: `max_epochs=100` reached.\n"
     ]
    },
    {
     "name": "stdout",
     "output_type": "stream",
     "text": [
      "Epoch 99: 100%|██████████| 104/104 [00:01<00:00, 91.63it/s, v_num=8]\n",
      "Testing DataLoader 0: 100%|██████████| 39/39 [00:00<00:00, 148.68it/s]\n",
      "────────────────────────────────────────────────────────────────────────────────────────────────────────────────────────\n",
      "       Test metric             DataLoader 0\n",
      "────────────────────────────────────────────────────────────────────────────────────────────────────────────────────────\n",
      "        test_loss           0.13708026707172394\n",
      "        test_rmse           0.37024351954460144\n",
      "────────────────────────────────────────────────────────────────────────────────────────────────────────────────────────\n"
     ]
    },
    {
     "name": "stderr",
     "output_type": "stream",
     "text": [
      "C:\\Users\\Artemisa\\AppData\\Local\\Temp\\ipykernel_14376\\782491446.py:61: FutureWarning: The frame.append method is deprecated and will be removed from pandas in a future version. Use pandas.concat instead.\n",
      "  data = data.append({'Quantidade de Layers': n, 'Número de Neurônios': n_neuronio, 'MSE': mse, 'RMSE': rmse, 'R2': r2}, ignore_index=True)\n",
      "GPU available: False, used: False\n",
      "TPU available: False, using: 0 TPU cores\n",
      "IPU available: False, using: 0 IPUs\n",
      "HPU available: False, using: 0 HPUs\n",
      "\n",
      "  | Name  | Type    | Params\n",
      "----------------------------------\n",
      "0 | model | Network | 231   \n",
      "1 | loss  | MSELoss | 0     \n",
      "----------------------------------\n",
      "231       Trainable params\n",
      "0         Non-trainable params\n",
      "231       Total params\n",
      "0.001     Total estimated model params size (MB)\n"
     ]
    },
    {
     "name": "stdout",
     "output_type": "stream",
     "text": [
      "Epoch 99: 100%|██████████| 104/104 [00:01<00:00, 68.85it/s, v_num=9]        "
     ]
    },
    {
     "name": "stderr",
     "output_type": "stream",
     "text": [
      "`Trainer.fit` stopped: `max_epochs=100` reached.\n"
     ]
    },
    {
     "name": "stdout",
     "output_type": "stream",
     "text": [
      "Epoch 99: 100%|██████████| 104/104 [00:01<00:00, 67.98it/s, v_num=9]\n",
      "Testing DataLoader 0: 100%|██████████| 39/39 [00:00<00:00, 169.72it/s]\n",
      "────────────────────────────────────────────────────────────────────────────────────────────────────────────────────────\n",
      "       Test metric             DataLoader 0\n",
      "────────────────────────────────────────────────────────────────────────────────────────────────────────────────────────\n",
      "        test_loss           0.12163733690977097\n",
      "        test_rmse           0.34876543283462524\n",
      "────────────────────────────────────────────────────────────────────────────────────────────────────────────────────────\n"
     ]
    },
    {
     "name": "stderr",
     "output_type": "stream",
     "text": [
      "C:\\Users\\Artemisa\\AppData\\Local\\Temp\\ipykernel_14376\\782491446.py:61: FutureWarning: The frame.append method is deprecated and will be removed from pandas in a future version. Use pandas.concat instead.\n",
      "  data = data.append({'Quantidade de Layers': n, 'Número de Neurônios': n_neuronio, 'MSE': mse, 'RMSE': rmse, 'R2': r2}, ignore_index=True)\n",
      "GPU available: False, used: False\n",
      "TPU available: False, using: 0 TPU cores\n",
      "IPU available: False, using: 0 IPUs\n",
      "HPU available: False, using: 0 HPUs\n",
      "\n",
      "  | Name  | Type    | Params\n",
      "----------------------------------\n",
      "0 | model | Network | 11    \n",
      "1 | loss  | MSELoss | 0     \n",
      "----------------------------------\n",
      "11        Trainable params\n",
      "0         Non-trainable params\n",
      "11        Total params\n",
      "0.000     Total estimated model params size (MB)\n"
     ]
    },
    {
     "name": "stdout",
     "output_type": "stream",
     "text": [
      "Epoch 99: 100%|██████████| 104/104 [00:01<00:00, 68.99it/s, v_num=10]      "
     ]
    },
    {
     "name": "stderr",
     "output_type": "stream",
     "text": [
      "`Trainer.fit` stopped: `max_epochs=100` reached.\n"
     ]
    },
    {
     "name": "stdout",
     "output_type": "stream",
     "text": [
      "Epoch 99: 100%|██████████| 104/104 [00:01<00:00, 68.28it/s, v_num=10]\n",
      "Testing DataLoader 0: 100%|██████████| 39/39 [00:00<00:00, 181.84it/s]\n",
      "────────────────────────────────────────────────────────────────────────────────────────────────────────────────────────\n",
      "       Test metric             DataLoader 0\n",
      "────────────────────────────────────────────────────────────────────────────────────────────────────────────────────────\n",
      "        test_loss           0.14628762006759644\n",
      "        test_rmse           0.3824756443500519\n",
      "────────────────────────────────────────────────────────────────────────────────────────────────────────────────────────\n"
     ]
    },
    {
     "name": "stderr",
     "output_type": "stream",
     "text": [
      "C:\\Users\\Artemisa\\AppData\\Local\\Temp\\ipykernel_14376\\782491446.py:61: FutureWarning: The frame.append method is deprecated and will be removed from pandas in a future version. Use pandas.concat instead.\n",
      "  data = data.append({'Quantidade de Layers': n, 'Número de Neurônios': n_neuronio, 'MSE': mse, 'RMSE': rmse, 'R2': r2}, ignore_index=True)\n",
      "GPU available: False, used: False\n",
      "TPU available: False, using: 0 TPU cores\n",
      "IPU available: False, using: 0 IPUs\n",
      "HPU available: False, using: 0 HPUs\n",
      "\n",
      "  | Name  | Type    | Params\n",
      "----------------------------------\n",
      "0 | model | Network | 601   \n",
      "1 | loss  | MSELoss | 0     \n",
      "----------------------------------\n",
      "601       Trainable params\n",
      "0         Non-trainable params\n",
      "601       Total params\n",
      "0.002     Total estimated model params size (MB)\n"
     ]
    },
    {
     "name": "stdout",
     "output_type": "stream",
     "text": [
      "Epoch 99: 100%|██████████| 104/104 [00:00<00:00, 107.85it/s, v_num=11]      "
     ]
    },
    {
     "name": "stderr",
     "output_type": "stream",
     "text": [
      "`Trainer.fit` stopped: `max_epochs=100` reached.\n"
     ]
    },
    {
     "name": "stdout",
     "output_type": "stream",
     "text": [
      "Epoch 99: 100%|██████████| 104/104 [00:00<00:00, 106.09it/s, v_num=11]\n",
      "Testing DataLoader 0: 100%|██████████| 39/39 [00:00<00:00, 218.13it/s]\n",
      "────────────────────────────────────────────────────────────────────────────────────────────────────────────────────────\n",
      "       Test metric             DataLoader 0\n",
      "────────────────────────────────────────────────────────────────────────────────────────────────────────────────────────\n",
      "        test_loss           0.26761531829833984\n",
      "        test_rmse           0.5173155069351196\n",
      "────────────────────────────────────────────────────────────────────────────────────────────────────────────────────────\n"
     ]
    },
    {
     "name": "stderr",
     "output_type": "stream",
     "text": [
      "C:\\Users\\Artemisa\\AppData\\Local\\Temp\\ipykernel_14376\\782491446.py:61: FutureWarning: The frame.append method is deprecated and will be removed from pandas in a future version. Use pandas.concat instead.\n",
      "  data = data.append({'Quantidade de Layers': n, 'Número de Neurônios': n_neuronio, 'MSE': mse, 'RMSE': rmse, 'R2': r2}, ignore_index=True)\n",
      "GPU available: False, used: False\n",
      "TPU available: False, using: 0 TPU cores\n",
      "IPU available: False, using: 0 IPUs\n",
      "HPU available: False, using: 0 HPUs\n",
      "\n",
      "  | Name  | Type    | Params\n",
      "----------------------------------\n",
      "0 | model | Network | 3.2 K \n",
      "1 | loss  | MSELoss | 0     \n",
      "----------------------------------\n",
      "3.2 K     Trainable params\n",
      "0         Non-trainable params\n",
      "3.2 K     Total params\n",
      "0.013     Total estimated model params size (MB)\n"
     ]
    },
    {
     "name": "stdout",
     "output_type": "stream",
     "text": [
      "Epoch 99: 100%|██████████| 104/104 [00:01<00:00, 78.61it/s, v_num=12]       "
     ]
    },
    {
     "name": "stderr",
     "output_type": "stream",
     "text": [
      "`Trainer.fit` stopped: `max_epochs=100` reached.\n"
     ]
    },
    {
     "name": "stdout",
     "output_type": "stream",
     "text": [
      "Epoch 99: 100%|██████████| 104/104 [00:01<00:00, 77.64it/s, v_num=12]\n",
      "Testing DataLoader 0: 100%|██████████| 39/39 [00:00<00:00, 195.44it/s]\n",
      "────────────────────────────────────────────────────────────────────────────────────────────────────────────────────────\n",
      "       Test metric             DataLoader 0\n",
      "────────────────────────────────────────────────────────────────────────────────────────────────────────────────────────\n",
      "        test_loss           0.10998673737049103\n",
      "        test_rmse           0.3316424787044525\n",
      "────────────────────────────────────────────────────────────────────────────────────────────────────────────────────────\n"
     ]
    },
    {
     "name": "stderr",
     "output_type": "stream",
     "text": [
      "C:\\Users\\Artemisa\\AppData\\Local\\Temp\\ipykernel_14376\\782491446.py:61: FutureWarning: The frame.append method is deprecated and will be removed from pandas in a future version. Use pandas.concat instead.\n",
      "  data = data.append({'Quantidade de Layers': n, 'Número de Neurônios': n_neuronio, 'MSE': mse, 'RMSE': rmse, 'R2': r2}, ignore_index=True)\n",
      "GPU available: False, used: False\n",
      "TPU available: False, using: 0 TPU cores\n",
      "IPU available: False, using: 0 IPUs\n",
      "HPU available: False, using: 0 HPUs\n",
      "\n",
      "  | Name  | Type    | Params\n",
      "----------------------------------\n",
      "0 | model | Network | 11    \n",
      "1 | loss  | MSELoss | 0     \n",
      "----------------------------------\n",
      "11        Trainable params\n",
      "0         Non-trainable params\n",
      "11        Total params\n",
      "0.000     Total estimated model params size (MB)\n"
     ]
    },
    {
     "name": "stdout",
     "output_type": "stream",
     "text": [
      "Epoch 99: 100%|██████████| 104/104 [00:01<00:00, 73.62it/s, v_num=13] "
     ]
    },
    {
     "name": "stderr",
     "output_type": "stream",
     "text": [
      "`Trainer.fit` stopped: `max_epochs=100` reached.\n"
     ]
    },
    {
     "name": "stdout",
     "output_type": "stream",
     "text": [
      "Epoch 99: 100%|██████████| 104/104 [00:01<00:00, 72.65it/s, v_num=13]\n",
      "Testing DataLoader 0: 100%|██████████| 39/39 [00:00<00:00, 155.82it/s]\n",
      "────────────────────────────────────────────────────────────────────────────────────────────────────────────────────────\n",
      "       Test metric             DataLoader 0\n",
      "────────────────────────────────────────────────────────────────────────────────────────────────────────────────────────\n",
      "        test_loss           0.13727310299873352\n",
      "        test_rmse           0.37050384283065796\n",
      "────────────────────────────────────────────────────────────────────────────────────────────────────────────────────────\n"
     ]
    },
    {
     "name": "stderr",
     "output_type": "stream",
     "text": [
      "C:\\Users\\Artemisa\\AppData\\Local\\Temp\\ipykernel_14376\\782491446.py:61: FutureWarning: The frame.append method is deprecated and will be removed from pandas in a future version. Use pandas.concat instead.\n",
      "  data = data.append({'Quantidade de Layers': n, 'Número de Neurônios': n_neuronio, 'MSE': mse, 'RMSE': rmse, 'R2': r2}, ignore_index=True)\n",
      "GPU available: False, used: False\n",
      "TPU available: False, using: 0 TPU cores\n",
      "IPU available: False, using: 0 IPUs\n",
      "HPU available: False, using: 0 HPUs\n",
      "\n",
      "  | Name  | Type    | Params\n",
      "----------------------------------\n",
      "0 | model | Network | 1.2 K \n",
      "1 | loss  | MSELoss | 0     \n",
      "----------------------------------\n",
      "1.2 K     Trainable params\n",
      "0         Non-trainable params\n",
      "1.2 K     Total params\n",
      "0.005     Total estimated model params size (MB)\n"
     ]
    },
    {
     "name": "stdout",
     "output_type": "stream",
     "text": [
      "Epoch 99: 100%|██████████| 104/104 [00:00<00:00, 111.83it/s, v_num=14]     "
     ]
    },
    {
     "name": "stderr",
     "output_type": "stream",
     "text": [
      "`Trainer.fit` stopped: `max_epochs=100` reached.\n"
     ]
    },
    {
     "name": "stdout",
     "output_type": "stream",
     "text": [
      "Epoch 99: 100%|██████████| 104/104 [00:00<00:00, 110.59it/s, v_num=14]\n",
      "Testing DataLoader 0: 100%|██████████| 39/39 [00:00<00:00, 180.10it/s]\n",
      "────────────────────────────────────────────────────────────────────────────────────────────────────────────────────────\n",
      "       Test metric             DataLoader 0\n",
      "────────────────────────────────────────────────────────────────────────────────────────────────────────────────────────\n",
      "        test_loss           0.10365569591522217\n",
      "        test_rmse           0.3219560384750366\n",
      "────────────────────────────────────────────────────────────────────────────────────────────────────────────────────────\n"
     ]
    },
    {
     "name": "stderr",
     "output_type": "stream",
     "text": [
      "C:\\Users\\Artemisa\\AppData\\Local\\Temp\\ipykernel_14376\\782491446.py:61: FutureWarning: The frame.append method is deprecated and will be removed from pandas in a future version. Use pandas.concat instead.\n",
      "  data = data.append({'Quantidade de Layers': n, 'Número de Neurônios': n_neuronio, 'MSE': mse, 'RMSE': rmse, 'R2': r2}, ignore_index=True)\n",
      "GPU available: False, used: False\n",
      "TPU available: False, using: 0 TPU cores\n",
      "IPU available: False, using: 0 IPUs\n",
      "HPU available: False, using: 0 HPUs\n",
      "\n",
      "  | Name  | Type    | Params\n",
      "----------------------------------\n",
      "0 | model | Network | 11.3 K\n",
      "1 | loss  | MSELoss | 0     \n",
      "----------------------------------\n",
      "11.3 K    Trainable params\n",
      "0         Non-trainable params\n",
      "11.3 K    Total params\n",
      "0.045     Total estimated model params size (MB)\n"
     ]
    },
    {
     "name": "stdout",
     "output_type": "stream",
     "text": [
      "Epoch 99: 100%|██████████| 104/104 [00:01<00:00, 69.55it/s, v_num=15]      "
     ]
    },
    {
     "name": "stderr",
     "output_type": "stream",
     "text": [
      "`Trainer.fit` stopped: `max_epochs=100` reached.\n"
     ]
    },
    {
     "name": "stdout",
     "output_type": "stream",
     "text": [
      "Epoch 99: 100%|██████████| 104/104 [00:01<00:00, 68.43it/s, v_num=15]\n",
      "Testing DataLoader 0: 100%|██████████| 39/39 [00:00<00:00, 158.78it/s]\n",
      "────────────────────────────────────────────────────────────────────────────────────────────────────────────────────────\n",
      "       Test metric             DataLoader 0\n",
      "────────────────────────────────────────────────────────────────────────────────────────────────────────────────────────\n",
      "        test_loss           0.09229614585638046\n",
      "        test_rmse           0.30380281805992126\n",
      "────────────────────────────────────────────────────────────────────────────────────────────────────────────────────────\n"
     ]
    },
    {
     "name": "stderr",
     "output_type": "stream",
     "text": [
      "C:\\Users\\Artemisa\\AppData\\Local\\Temp\\ipykernel_14376\\782491446.py:61: FutureWarning: The frame.append method is deprecated and will be removed from pandas in a future version. Use pandas.concat instead.\n",
      "  data = data.append({'Quantidade de Layers': n, 'Número de Neurônios': n_neuronio, 'MSE': mse, 'RMSE': rmse, 'R2': r2}, ignore_index=True)\n",
      "GPU available: False, used: False\n",
      "TPU available: False, using: 0 TPU cores\n",
      "IPU available: False, using: 0 IPUs\n",
      "HPU available: False, using: 0 HPUs\n",
      "\n",
      "  | Name  | Type    | Params\n",
      "----------------------------------\n",
      "0 | model | Network | 11    \n",
      "1 | loss  | MSELoss | 0     \n",
      "----------------------------------\n",
      "11        Trainable params\n",
      "0         Non-trainable params\n",
      "11        Total params\n",
      "0.000     Total estimated model params size (MB)\n"
     ]
    },
    {
     "name": "stdout",
     "output_type": "stream",
     "text": [
      "Epoch 99: 100%|██████████| 104/104 [00:00<00:00, 111.84it/s, v_num=16]     "
     ]
    },
    {
     "name": "stderr",
     "output_type": "stream",
     "text": [
      "`Trainer.fit` stopped: `max_epochs=100` reached.\n"
     ]
    },
    {
     "name": "stdout",
     "output_type": "stream",
     "text": [
      "Epoch 99: 100%|██████████| 104/104 [00:00<00:00, 110.62it/s, v_num=16]\n",
      "Testing DataLoader 0: 100%|██████████| 39/39 [00:00<00:00, 223.57it/s]\n",
      "────────────────────────────────────────────────────────────────────────────────────────────────────────────────────────\n",
      "       Test metric             DataLoader 0\n",
      "────────────────────────────────────────────────────────────────────────────────────────────────────────────────────────\n",
      "        test_loss           0.20996801555156708\n",
      "        test_rmse           0.4582226574420929\n",
      "────────────────────────────────────────────────────────────────────────────────────────────────────────────────────────\n"
     ]
    },
    {
     "name": "stderr",
     "output_type": "stream",
     "text": [
      "C:\\Users\\Artemisa\\AppData\\Local\\Temp\\ipykernel_14376\\782491446.py:61: FutureWarning: The frame.append method is deprecated and will be removed from pandas in a future version. Use pandas.concat instead.\n",
      "  data = data.append({'Quantidade de Layers': n, 'Número de Neurônios': n_neuronio, 'MSE': mse, 'RMSE': rmse, 'R2': r2}, ignore_index=True)\n",
      "GPU available: False, used: False\n",
      "TPU available: False, using: 0 TPU cores\n",
      "IPU available: False, using: 0 IPUs\n",
      "HPU available: False, using: 0 HPUs\n",
      "\n",
      "  | Name  | Type    | Params\n",
      "----------------------------------\n",
      "0 | model | Network | 6.0 K \n",
      "1 | loss  | MSELoss | 0     \n",
      "----------------------------------\n",
      "6.0 K     Trainable params\n",
      "0         Non-trainable params\n",
      "6.0 K     Total params\n",
      "0.024     Total estimated model params size (MB)\n"
     ]
    },
    {
     "name": "stdout",
     "output_type": "stream",
     "text": [
      "Epoch 99: 100%|██████████| 104/104 [00:01<00:00, 80.42it/s, v_num=17]       "
     ]
    },
    {
     "name": "stderr",
     "output_type": "stream",
     "text": [
      "`Trainer.fit` stopped: `max_epochs=100` reached.\n"
     ]
    },
    {
     "name": "stdout",
     "output_type": "stream",
     "text": [
      "Epoch 99: 100%|██████████| 104/104 [00:01<00:00, 79.21it/s, v_num=17]\n",
      "Testing DataLoader 0: 100%|██████████| 39/39 [00:00<00:00, 135.38it/s]\n",
      "────────────────────────────────────────────────────────────────────────────────────────────────────────────────────────\n",
      "       Test metric             DataLoader 0\n",
      "────────────────────────────────────────────────────────────────────────────────────────────────────────────────────────\n",
      "        test_loss           0.28564703464508057\n",
      "        test_rmse           0.5344595909118652\n",
      "────────────────────────────────────────────────────────────────────────────────────────────────────────────────────────\n"
     ]
    },
    {
     "name": "stderr",
     "output_type": "stream",
     "text": [
      "C:\\Users\\Artemisa\\AppData\\Local\\Temp\\ipykernel_14376\\782491446.py:61: FutureWarning: The frame.append method is deprecated and will be removed from pandas in a future version. Use pandas.concat instead.\n",
      "  data = data.append({'Quantidade de Layers': n, 'Número de Neurônios': n_neuronio, 'MSE': mse, 'RMSE': rmse, 'R2': r2}, ignore_index=True)\n",
      "GPU available: False, used: False\n",
      "TPU available: False, using: 0 TPU cores\n",
      "IPU available: False, using: 0 IPUs\n",
      "HPU available: False, using: 0 HPUs\n",
      "\n",
      "  | Name  | Type    | Params\n",
      "----------------------------------\n",
      "0 | model | Network | 256 K \n",
      "1 | loss  | MSELoss | 0     \n",
      "----------------------------------\n",
      "256 K     Trainable params\n",
      "0         Non-trainable params\n",
      "256 K     Total params\n",
      "1.026     Total estimated model params size (MB)\n"
     ]
    },
    {
     "name": "stdout",
     "output_type": "stream",
     "text": [
      "Epoch 99: 100%|██████████| 104/104 [00:02<00:00, 43.49it/s, v_num=18]      "
     ]
    },
    {
     "name": "stderr",
     "output_type": "stream",
     "text": [
      "`Trainer.fit` stopped: `max_epochs=100` reached.\n"
     ]
    },
    {
     "name": "stdout",
     "output_type": "stream",
     "text": [
      "Epoch 99: 100%|██████████| 104/104 [00:02<00:00, 42.82it/s, v_num=18]\n",
      "Testing DataLoader 0: 100%|██████████| 39/39 [00:00<00:00, 113.36it/s]\n",
      "────────────────────────────────────────────────────────────────────────────────────────────────────────────────────────\n",
      "       Test metric             DataLoader 0\n",
      "────────────────────────────────────────────────────────────────────────────────────────────────────────────────────────\n",
      "        test_loss            2.161083698272705\n",
      "        test_rmse            1.470062494277954\n",
      "────────────────────────────────────────────────────────────────────────────────────────────────────────────────────────\n"
     ]
    },
    {
     "name": "stderr",
     "output_type": "stream",
     "text": [
      "C:\\Users\\Artemisa\\AppData\\Local\\Temp\\ipykernel_14376\\782491446.py:61: FutureWarning: The frame.append method is deprecated and will be removed from pandas in a future version. Use pandas.concat instead.\n",
      "  data = data.append({'Quantidade de Layers': n, 'Número de Neurônios': n_neuronio, 'MSE': mse, 'RMSE': rmse, 'R2': r2}, ignore_index=True)\n",
      "GPU available: False, used: False\n",
      "TPU available: False, using: 0 TPU cores\n",
      "IPU available: False, using: 0 IPUs\n",
      "HPU available: False, using: 0 HPUs\n",
      "\n",
      "  | Name  | Type    | Params\n",
      "----------------------------------\n",
      "0 | model | Network | 11    \n",
      "1 | loss  | MSELoss | 0     \n",
      "----------------------------------\n",
      "11        Trainable params\n",
      "0         Non-trainable params\n",
      "11        Total params\n",
      "0.000     Total estimated model params size (MB)\n"
     ]
    },
    {
     "name": "stdout",
     "output_type": "stream",
     "text": [
      "Epoch 99: 100%|██████████| 104/104 [00:00<00:00, 117.37it/s, v_num=19]      "
     ]
    },
    {
     "name": "stderr",
     "output_type": "stream",
     "text": [
      "`Trainer.fit` stopped: `max_epochs=100` reached.\n"
     ]
    },
    {
     "name": "stdout",
     "output_type": "stream",
     "text": [
      "Epoch 99: 100%|██████████| 104/104 [00:00<00:00, 115.37it/s, v_num=19]\n",
      "Testing DataLoader 0: 100%|██████████| 39/39 [00:00<00:00, 239.34it/s]\n",
      "────────────────────────────────────────────────────────────────────────────────────────────────────────────────────────\n",
      "       Test metric             DataLoader 0\n",
      "────────────────────────────────────────────────────────────────────────────────────────────────────────────────────────\n",
      "        test_loss           0.14392492175102234\n",
      "        test_rmse           0.3793743848800659\n",
      "────────────────────────────────────────────────────────────────────────────────────────────────────────────────────────\n"
     ]
    },
    {
     "name": "stderr",
     "output_type": "stream",
     "text": [
      "C:\\Users\\Artemisa\\AppData\\Local\\Temp\\ipykernel_14376\\782491446.py:61: FutureWarning: The frame.append method is deprecated and will be removed from pandas in a future version. Use pandas.concat instead.\n",
      "  data = data.append({'Quantidade de Layers': n, 'Número de Neurônios': n_neuronio, 'MSE': mse, 'RMSE': rmse, 'R2': r2}, ignore_index=True)\n",
      "GPU available: False, used: False\n",
      "TPU available: False, using: 0 TPU cores\n",
      "IPU available: False, using: 0 IPUs\n",
      "HPU available: False, using: 0 HPUs\n",
      "\n",
      "  | Name  | Type    | Params\n",
      "----------------------------------\n",
      "0 | model | Network | 1.2 K \n",
      "1 | loss  | MSELoss | 0     \n",
      "----------------------------------\n",
      "1.2 K     Trainable params\n",
      "0         Non-trainable params\n",
      "1.2 K     Total params\n",
      "0.005     Total estimated model params size (MB)\n"
     ]
    },
    {
     "name": "stdout",
     "output_type": "stream",
     "text": [
      "Epoch 99: 100%|██████████| 104/104 [00:01<00:00, 103.87it/s, v_num=20]     "
     ]
    },
    {
     "name": "stderr",
     "output_type": "stream",
     "text": [
      "`Trainer.fit` stopped: `max_epochs=100` reached.\n"
     ]
    },
    {
     "name": "stdout",
     "output_type": "stream",
     "text": [
      "Epoch 99: 100%|██████████| 104/104 [00:01<00:00, 102.18it/s, v_num=20]\n",
      "Testing DataLoader 0: 100%|██████████| 39/39 [00:00<00:00, 171.10it/s]\n",
      "────────────────────────────────────────────────────────────────────────────────────────────────────────────────────────\n",
      "       Test metric             DataLoader 0\n",
      "────────────────────────────────────────────────────────────────────────────────────────────────────────────────────────\n",
      "        test_loss           0.22449924051761627\n",
      "        test_rmse           0.4738135039806366\n",
      "────────────────────────────────────────────────────────────────────────────────────────────────────────────────────────\n"
     ]
    },
    {
     "name": "stderr",
     "output_type": "stream",
     "text": [
      "C:\\Users\\Artemisa\\AppData\\Local\\Temp\\ipykernel_14376\\782491446.py:61: FutureWarning: The frame.append method is deprecated and will be removed from pandas in a future version. Use pandas.concat instead.\n",
      "  data = data.append({'Quantidade de Layers': n, 'Número de Neurônios': n_neuronio, 'MSE': mse, 'RMSE': rmse, 'R2': r2}, ignore_index=True)\n",
      "GPU available: False, used: False\n",
      "TPU available: False, using: 0 TPU cores\n",
      "IPU available: False, using: 0 IPUs\n",
      "HPU available: False, using: 0 HPUs\n",
      "\n",
      "  | Name  | Type    | Params\n",
      "----------------------------------\n",
      "0 | model | Network | 11.3 K\n",
      "1 | loss  | MSELoss | 0     \n",
      "----------------------------------\n",
      "11.3 K    Trainable params\n",
      "0         Non-trainable params\n",
      "11.3 K    Total params\n",
      "0.045     Total estimated model params size (MB)\n"
     ]
    },
    {
     "name": "stdout",
     "output_type": "stream",
     "text": [
      "Epoch 99: 100%|██████████| 104/104 [00:01<00:00, 69.34it/s, v_num=21]       "
     ]
    },
    {
     "name": "stderr",
     "output_type": "stream",
     "text": [
      "`Trainer.fit` stopped: `max_epochs=100` reached.\n"
     ]
    },
    {
     "name": "stdout",
     "output_type": "stream",
     "text": [
      "Epoch 99: 100%|██████████| 104/104 [00:01<00:00, 68.69it/s, v_num=21]\n",
      "Testing DataLoader 0: 100%|██████████| 39/39 [00:00<00:00, 89.82it/s] \n",
      "────────────────────────────────────────────────────────────────────────────────────────────────────────────────────────\n",
      "       Test metric             DataLoader 0\n",
      "────────────────────────────────────────────────────────────────────────────────────────────────────────────────────────\n",
      "        test_loss           0.16296587884426117\n",
      "        test_rmse           0.4036903381347656\n",
      "────────────────────────────────────────────────────────────────────────────────────────────────────────────────────────\n"
     ]
    },
    {
     "name": "stderr",
     "output_type": "stream",
     "text": [
      "C:\\Users\\Artemisa\\AppData\\Local\\Temp\\ipykernel_14376\\782491446.py:61: FutureWarning: The frame.append method is deprecated and will be removed from pandas in a future version. Use pandas.concat instead.\n",
      "  data = data.append({'Quantidade de Layers': n, 'Número de Neurônios': n_neuronio, 'MSE': mse, 'RMSE': rmse, 'R2': r2}, ignore_index=True)\n"
     ]
    },
    {
     "data": {
      "text/plain": [
       "<Figure size 640x480 with 0 Axes>"
      ]
     },
     "metadata": {},
     "output_type": "display_data"
    },
    {
     "data": {
      "text/plain": [
       "<Figure size 600x600 with 0 Axes>"
      ]
     },
     "metadata": {},
     "output_type": "display_data"
    },
    {
     "data": {
      "text/plain": [
       "<Figure size 600x600 with 0 Axes>"
      ]
     },
     "metadata": {},
     "output_type": "display_data"
    },
    {
     "data": {
      "text/plain": [
       "<Figure size 600x600 with 0 Axes>"
      ]
     },
     "metadata": {},
     "output_type": "display_data"
    },
    {
     "data": {
      "text/plain": [
       "<Figure size 600x600 with 0 Axes>"
      ]
     },
     "metadata": {},
     "output_type": "display_data"
    },
    {
     "data": {
      "text/plain": [
       "<Figure size 600x600 with 0 Axes>"
      ]
     },
     "metadata": {},
     "output_type": "display_data"
    },
    {
     "data": {
      "text/plain": [
       "<Figure size 600x600 with 0 Axes>"
      ]
     },
     "metadata": {},
     "output_type": "display_data"
    },
    {
     "data": {
      "text/plain": [
       "<Figure size 600x600 with 0 Axes>"
      ]
     },
     "metadata": {},
     "output_type": "display_data"
    },
    {
     "data": {
      "text/plain": [
       "<Figure size 600x600 with 0 Axes>"
      ]
     },
     "metadata": {},
     "output_type": "display_data"
    },
    {
     "data": {
      "text/plain": [
       "<Figure size 600x600 with 0 Axes>"
      ]
     },
     "metadata": {},
     "output_type": "display_data"
    },
    {
     "data": {
      "text/plain": [
       "<Figure size 600x600 with 0 Axes>"
      ]
     },
     "metadata": {},
     "output_type": "display_data"
    },
    {
     "data": {
      "text/plain": [
       "<Figure size 600x600 with 0 Axes>"
      ]
     },
     "metadata": {},
     "output_type": "display_data"
    },
    {
     "data": {
      "text/plain": [
       "<Figure size 600x600 with 0 Axes>"
      ]
     },
     "metadata": {},
     "output_type": "display_data"
    },
    {
     "data": {
      "text/plain": [
       "<Figure size 600x600 with 0 Axes>"
      ]
     },
     "metadata": {},
     "output_type": "display_data"
    },
    {
     "data": {
      "text/plain": [
       "<Figure size 600x600 with 0 Axes>"
      ]
     },
     "metadata": {},
     "output_type": "display_data"
    },
    {
     "data": {
      "image/png": "[encoded data removed]",
      "text/plain": [
       "<Figure size 600x600 with 1 Axes>"
      ]
     },
     "metadata": {},
     "output_type": "display_data"
    }
   ],
   "source": [
    "# Testando diferentes arquiteturas de rede\n",
    "\n",
    "n_layers = 20\n",
    "\n",
    "n_neuronios = [10, 50, 100, 200]\n",
    "\n",
    "data = pd.DataFrame(columns=['Quantidade de Layers', 'Número de Neurônios', 'MSE', 'RMSE', 'R2'])\n",
    "\n",
    "for n_neuronio in n_neuronios:\n",
    "    for n in range(n_layers):\n",
    "        # Criando a rede neural\n",
    "        hidden_layers = np.full(n, n_neuronio)\n",
    "        model = Network(Xs_train.shape[1], hidden_layers)\n",
    "        \n",
    "        # Definindo o modulo com a métrica RMSE\n",
    "        module = SimpleModule.regression(model, metrics={'rmse': MeanSquaredError(squared=False)})\n",
    "        \n",
    "        # Objeto para salvar os arquivos logs\n",
    "        logger = CSVLogger('logs', name='white_wine')\n",
    "        \n",
    "        # Treinando a rede\n",
    "        n_epochs = 100\n",
    "        trainer = Trainer(deterministic=True,\n",
    "                          max_epochs=n_epochs, # Número de épocas\n",
    "                          log_every_n_steps=5, # Número de passos em que serão salvas informações\n",
    "                          logger=logger , # Logger em que serão salvas as informações\n",
    "                          callbacks=[ErrorTracker()])\n",
    "        trainer.fit(module , datamodule=dm)\n",
    "        \n",
    "        # Avaliando a performance do modelo para o conjunto de teste\n",
    "        trainer.test(module , datamodule=dm)\n",
    "        \n",
    "        # Criando um plot de MAE (mean absolute error) em função do número de épocas\n",
    "        results = pd.read_csv(logger.experiment.metrics_file_path)\n",
    "        \n",
    "        plt.clf()\n",
    "        fig, ax = subplots(1, 1, figsize=(6, 6))\n",
    "        ax = summary_plot(results,\n",
    "                        ax,\n",
    "                        col='rmse',\n",
    "                        ylabel='RMSE',\n",
    "                        valid_legend='Validation (=Test)')\n",
    "        #ax.set_ylim([0, 400])\n",
    "        ax.set_xticks(np.linspace(0, n_epochs, 11).astype(int));\n",
    "        filename = f\"imagens/Neural_Network/RMSE_{n}_{n_neuronio}.png\"        \n",
    "        plt.savefig(filename)        \n",
    "        \n",
    "        # Coloque o modelo em modo de avaliação\n",
    "        model.eval()\n",
    "\n",
    "        # Faça as previsões com o modelo\n",
    "        preds = model(X_test_t)\n",
    "        \n",
    "        # Converta os tensores para arrays NumPy para calcular o R²\n",
    "        preds = preds.detach().cpu().numpy()\n",
    "        \n",
    "        mse = mean_squared_error(Y_test,preds)\n",
    "        rmse = np.sqrt(mse)\n",
    "        r2 = r2_score(Y_test, preds)\n",
    "        \n",
    "        data = data.append({'Quantidade de Layers': n, 'Número de Neurônios': n_neuronio, 'MSE': mse, 'RMSE': rmse, 'R2': r2}, ignore_index=True)\n",
    "        \n",
    "        del(model , trainer , module, logger)\n",
    "        "
   ]
  },
  {
   "cell_type": "code",
   "execution_count": 21,
   "metadata": {},
   "outputs": [
    {
     "name": "stderr",
     "output_type": "stream",
     "text": [
      "C:\\Users\\Artemisa\\AppData\\Local\\Temp\\ipykernel_14376\\2238698612.py:11: UserWarning: The palette list has more values (10) than needed (4), which may not be intended.\n",
      "  sns.lineplot(x=\"Quantidade de Layers\", y=\"RMSE\", hue=\"Número de Neurônios\", data=data, marker=\"o\", palette=sns.color_palette(\"tab10\"), alpha=1)\n"
     ]
    },
    {
     "data": {
      "image/png": "[encoded data removed]",
      "text/plain": [
       "<Figure size 1000x600 with 1 Axes>"
      ]
     },
     "metadata": {},
     "output_type": "display_data"
    }
   ],
   "source": [
    "import seaborn as sns\n",
    "import matplotlib.pyplot as plt\n",
    "\n",
    "# Configure o estilo dos gráficos e use a paleta personalizada\n",
    "sns.set(style=\"whitegrid\", palette=sns.color_palette(\"tab10\"))\n",
    "\n",
    "# Crie o gráfico de linhas com as séries de RMSE\n",
    "plt.figure(figsize=(10, 6))  # Ajuste o tamanho da figura conforme necessário\n",
    "\n",
    "# Use o seaborn para criar o gráfico de linhas e ajuste a transparência (alpha) para 1\n",
    "sns.lineplot(x=\"Quantidade de Layers\", y=\"RMSE\", hue=\"Número de Neurônios\", data=data, marker=\"o\", palette=sns.color_palette(\"tab10\"), alpha=1)\n",
    "\n",
    "# Adicione um título ao gráfico\n",
    "plt.title(\"RMSE por Número de Neurônios e Quantidade de Layers\")\n",
    "\n",
    "# Mostre o gráfico\n",
    "plt.show()\n"
   ]
  }
 ],
 "metadata": {
  "kernelspec": {
   "display_name": "Python 3",
   "language": "python",
   "name": "python3"
  },
  "language_info": {
   "codemirror_mode": {
    "name": "ipython",
    "version": 3
   },
   "file_extension": ".py",
   "mimetype": "text/x-python",
   "name": "python",
   "nbconvert_exporter": "python",
   "pygments_lexer": "ipython3",
   "version": "3.9.5"
  }
 },
 "nbformat": 4,
 "nbformat_minor": 5
}
